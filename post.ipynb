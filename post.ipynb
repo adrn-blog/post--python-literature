{
 "cells": [
  {
   "cell_type": "code",
   "execution_count": null,
   "metadata": {},
   "outputs": [],
   "source": [
    "import datetime\n",
    "import itertools\n",
    "from os import path\n",
    "import time\n",
    "\n",
    "import ads\n",
    "import matplotlib.pyplot as plt\n",
    "\n",
    "%matplotlib inline\n",
    "import numpy as np\n",
    "import pandas as pd\n",
    "from tqdm import tqdm"
   ]
  },
  {
   "cell_type": "markdown",
   "metadata": {},
   "source": [
    "I'm interested in how the popuarity of various programming languages and packages change with time, as measured by mentions in the astronomical literature. To answer this, I'm going to use the [`ads`](https://ads.readthedocs.io/en/latest/) package to query the \"astronomy\" database API at the [ADS](https://ui.adsabs.harvard.edu/) to search for full-text mentions of the words:\n",
    "* Python\n",
    "* Astropy\n",
    "* IDL\n",
    "* Matlab\n",
    "\n",
    "We're going to construct a bunch of queries to get the number of articles that reference these terms per month since early 1991 (Python was released in February 1991). Let's first define a grid of year-month combinations to query on:"
   ]
  },
  {
   "cell_type": "code",
   "execution_count": null,
   "metadata": {},
   "outputs": [],
   "source": [
    "# Python was created: 20 February 1991\n",
    "years = range(1991, 2018 + 1, 1)\n",
    "months = range(1, 12 + 1, 1)\n",
    "dates = [\n",
    "    (y, m)\n",
    "    for y, m in itertools.product(years, months)\n",
    "    if y < 2018 or (y == 2018 and m < 3)\n",
    "][\n",
    "    1:\n",
    "]  # start from Feb 1991\n",
    "\n",
    "ndates = len(dates)\n",
    "print(f\"{ndates} queries to ADS in total\")\n",
    "print(dates[0], dates[-1])"
   ]
  },
  {
   "cell_type": "markdown",
   "metadata": {},
   "source": [
    "So for each term, we will do 325 queries (!) to get the number of articles that mention the term for each month from Feb. 1991 to Feb. 2018. We won't want to repeat these queries (we'll start to hit rate limit issues for querying ADS), so I'll define a function that caches the results and returns the cached data if available. We'll collect the date-count information into a Pandas `DataFrame` and cache to disk as a CSV file:"
   ]
  },
  {
   "cell_type": "code",
   "execution_count": null,
   "metadata": {},
   "outputs": [],
   "source": [
    "def get_df(term, db, dates, overwrite=False, sleep=0.1):\n",
    "    cache_file = \"{0}_{1}.csv\".format(term, db)\n",
    "    ndates = len(dates)\n",
    "    q = 'full:\"{term:s}\"  pubdate:{y:d}-{m:02d} database:\"{db:s}\"'\n",
    "\n",
    "    if not path.exists(cache_file) or overwrite:\n",
    "        df = pd.DataFrame(\n",
    "            {\n",
    "                \"date\": np.full(ndates, datetime.date(1984, 1, 1)),\n",
    "                \"count\": np.full(ndates, -1),\n",
    "            }\n",
    "        )\n",
    "        df.to_csv(cache_file, index=False)\n",
    "\n",
    "    df = pd.read_csv(cache_file)\n",
    "    d = df.to_dict()\n",
    "\n",
    "    search = None\n",
    "    if not np.all(df[\"count\"] >= 0):\n",
    "        for i, (y, m) in tqdm(enumerate(dates)):\n",
    "\n",
    "            if d[\"count\"][i] >= 0:\n",
    "                continue\n",
    "\n",
    "            search = ads.SearchQuery(q=q.format(y=y, m=m, term=term, db=db), rows=1000)\n",
    "            d[\"count\"][i] = len(list(search))\n",
    "            d[\"date\"][i] = datetime.date(y, m, 1)\n",
    "\n",
    "            time.sleep(sleep)\n",
    "\n",
    "    if search is not None and search.response is not None:\n",
    "        nremain = search.response.get_ratelimits()[\"remaining\"]\n",
    "        print(\"{0} queries remaining\".format(nremain))\n",
    "\n",
    "    df = pd.DataFrame(d)\n",
    "    df.to_csv(cache_file, index=False)\n",
    "    df[\"date\"] = pd.to_datetime(df[\"date\"])\n",
    "\n",
    "    return df"
   ]
  },
  {
   "cell_type": "code",
   "execution_count": null,
   "metadata": {},
   "outputs": [],
   "source": [
    "py_astro = get_df(\"python\", \"astronomy\", dates)"
   ]
  },
  {
   "cell_type": "code",
   "execution_count": null,
   "metadata": {},
   "outputs": [],
   "source": [
    "astropy_astro = get_df(\"astropy\", \"astronomy\", dates)"
   ]
  },
  {
   "cell_type": "code",
   "execution_count": null,
   "metadata": {},
   "outputs": [],
   "source": [
    "idl_astro = get_df(\"idl\", \"astronomy\", dates)"
   ]
  },
  {
   "cell_type": "code",
   "execution_count": null,
   "metadata": {},
   "outputs": [],
   "source": [
    "matlab_astro = get_df(\"matlab\", \"astronomy\", dates)"
   ]
  },
  {
   "cell_type": "markdown",
   "metadata": {},
   "source": [
    "Let's first look at the popularity of these terms by year:"
   ]
  },
  {
   "cell_type": "code",
   "execution_count": null,
   "metadata": {},
   "outputs": [],
   "source": [
    "dfs = [py_astro, astropy_astro, idl_astro, matlab_astro]\n",
    "labels = ['\"python\"', '\"astropy\"', '\"IDL\"', '\"Matlab\"']\n",
    "styles = [\n",
    "    dict(lw=2),\n",
    "    dict(color=\"tab:orange\", lw=2),\n",
    "    dict(color=\"tab:red\", alpha=0.5),\n",
    "    dict(color=\"tab:green\", alpha=0.5),\n",
    "]\n",
    "\n",
    "fig, ax = plt.subplots(1, 1, figsize=(8, 6))\n",
    "\n",
    "for df, label, style in zip(dfs, labels, styles):\n",
    "    grouped = df.groupby(df[\"date\"].map(lambda t: t.year)).sum()\n",
    "    ax.plot(\n",
    "        grouped.index,\n",
    "        grouped[\"count\"],\n",
    "        marker=\"\",\n",
    "        drawstyle=\"steps-mid\",\n",
    "        label=label,\n",
    "        **style\n",
    "    )\n",
    "\n",
    "ax.legend(loc=\"upper left\", fontsize=14, framealpha=1)\n",
    "\n",
    "ax.set_xlim(1992, 2017)\n",
    "ax.xaxis.set_ticks(np.arange(1993, 2017 + 1, 4))\n",
    "\n",
    "ax.set_xlabel(\"time\")\n",
    "ax.set_ylabel(\"mentions per year\")\n",
    "fig.suptitle(\"Source: ADS\", y=0.02, x=0.99, fontsize=14, fontstyle=\"italic\", ha=\"right\")\n",
    "fig.set_facecolor(\"w\")\n",
    "\n",
    "ax.set_title(\"mentions in the astronomical literature\")\n",
    "\n",
    "fig.tight_layout()"
   ]
  },
  {
   "cell_type": "markdown",
   "metadata": {},
   "source": [
    "We can also look at smaller-scale behavior, since we have the data on a monthly basis. The next plot shows the number of \"Python\" mentions per month vs. time, with vertical lines over-plotted for past [ADASS](http://www.adass.org/) and SPIE instrumentation meetings:"
   ]
  },
  {
   "cell_type": "code",
   "execution_count": null,
   "metadata": {},
   "outputs": [],
   "source": [
    "adass = [\n",
    "    (1991, 11, 6),\n",
    "    (1992, 11, 2),\n",
    "    (1993, 10, 13),\n",
    "    (1994, 9, 26),\n",
    "    (1995, 10, 22),\n",
    "    (1996, 9, 22),\n",
    "    (1997, 9, 14),\n",
    "    (1998, 11, 1),\n",
    "    (1999, 10, 3),\n",
    "    (2000, 11, 12),\n",
    "    (2001, 9, 30),\n",
    "    (2002, 10, 13),\n",
    "    (2003, 10, 12),\n",
    "    (2004, 10, 24),\n",
    "    (2005, 10, 2),\n",
    "    (2006, 10, 15),\n",
    "    (2007, 9, 23),\n",
    "    (2008, 11, 2),\n",
    "    (2009, 10, 4),\n",
    "    (2010, 11, 7),\n",
    "    (2011, 11, 6),\n",
    "    (2012, 11, 4),\n",
    "    (2013, 9, 29),\n",
    "    (2014, 10, 5),\n",
    "    (2015, 10, 25),\n",
    "    (2016, 10, 16),\n",
    "    (2017, 10, 22),\n",
    "]\n",
    "\n",
    "spie = [(2012, 8, 1), (2014, 6, 1), (2016, 6, 1)]"
   ]
  },
  {
   "cell_type": "code",
   "execution_count": null,
   "metadata": {},
   "outputs": [],
   "source": [
    "fig, ax = plt.subplots(1, 1, figsize=(12, 6))\n",
    "\n",
    "ax.plot(\n",
    "    py_astro[\"date\"],\n",
    "    py_astro[\"count\"],\n",
    "    label='\"Python\"',\n",
    "    drawstyle=\"steps-pre\",\n",
    "    marker=\"\",\n",
    "    color=\"#333333\",\n",
    ")\n",
    "\n",
    "for i, stuff in enumerate(adass):\n",
    "    kw = dict()\n",
    "    if i == 0:\n",
    "        kw = dict(label=\"ADASS\")\n",
    "    ax.axvline(\n",
    "        datetime.date(*stuff),\n",
    "        linestyle=\"-\",\n",
    "        marker=\"\",\n",
    "        zorder=-100,\n",
    "        color=\"tab:blue\",\n",
    "        alpha=0.35,\n",
    "        **kw\n",
    "    )\n",
    "\n",
    "for i, stuff in enumerate(spie):\n",
    "    kw = dict()\n",
    "    if i == 0:\n",
    "        kw = dict(label=\"SPIE\")\n",
    "    ax.axvline(\n",
    "        datetime.date(*stuff),\n",
    "        linestyle=\"-\",\n",
    "        marker=\"\",\n",
    "        zorder=-100,\n",
    "        color=\"tab:orange\",\n",
    "        alpha=0.35,\n",
    "        **kw\n",
    "    )\n",
    "\n",
    "ax.legend(loc=\"upper left\", fontsize=18, framealpha=1)\n",
    "\n",
    "ax.set_yscale(\"log\")\n",
    "\n",
    "ax.xaxis.set_ticks([datetime.date(x, 1, 1) for x in range(1991, 2018 + 1, 2)])\n",
    "ax.set_xlim(datetime.date(1991, 1, 1), datetime.date(2018, 3, 1))\n",
    "\n",
    "ax.set_xlabel(\"time\")\n",
    "ax.set_ylabel(\"mentions per month\")\n",
    "\n",
    "fig.suptitle(\"Source: ADS\", y=0.02, x=0.99, fontsize=14, fontstyle=\"italic\", ha=\"right\")\n",
    "\n",
    "fig.set_facecolor(\"w\")\n",
    "\n",
    "fig.tight_layout()"
   ]
  },
  {
   "cell_type": "markdown",
   "metadata": {},
   "source": [
    "The conference proceedings for both ADASS and SPIE show up as spikes in the number of articles that mention Python! But in recent times (>2014) those signals are becoming increasingly swamped by normal journal articles."
   ]
  }
 ],
 "metadata": {},
 "nbformat": 4,
 "nbformat_minor": 2
}
